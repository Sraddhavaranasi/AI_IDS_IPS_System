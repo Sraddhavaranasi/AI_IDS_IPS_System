{
 "cells": [
  {
   "cell_type": "code",
   "execution_count": 127,
   "id": "562b423e",
   "metadata": {},
   "outputs": [],
   "source": [
    "import pandas as pd\n",
    "import numpy as np\n",
    "from sklearn.preprocessing import LabelEncoder, MinMaxScaler"
   ]
  },
  {
   "cell_type": "code",
   "execution_count": 128,
   "id": "7c7e1b09",
   "metadata": {},
   "outputs": [],
   "source": [
    "# Load and reduce pseudo logs\n",
    "pseudo_logs = pd.read_csv(\"../datasets/Vijaya_Pseudo_Logs.csv\").sample(100, random_state=42)\n",
    "pseudo_logs.to_csv(\"../datasets/Vijaya_Pseudo_Logs_reduced.csv\", index=False)"
   ]
  },
  {
   "cell_type": "code",
   "execution_count": 139,
   "id": "83f8ce77",
   "metadata": {},
   "outputs": [
    {
     "name": "stdout",
     "output_type": "stream",
     "text": [
      "CIC-IDS processed data saved. Sample:\n",
      "                 timestamp       source_ip destination_ip protocol   port  \\\n",
      "32220  2023-01-01 00:00:23     192.168.0.8       10.0.2.2      UDP     53   \n",
      "151693 2023-01-01 00:01:45    192.168.0.86       10.0.1.1      TCP     80   \n",
      "188814 2023-01-01 00:00:33  192.168.538.60       10.0.2.0      UDP  53891   \n",
      "38470  2023-01-01 00:03:05     192.168.0.4       10.0.1.1      UDP     53   \n",
      "75568  2023-01-01 00:00:23    192.168.0.68       10.0.1.1      UDP     53   \n",
      "\n",
      "       action   label  \n",
      "32220   ALLOW  Normal  \n",
      "151693  ALLOW  Normal  \n",
      "188814  ALLOW  Normal  \n",
      "38470   ALLOW  Normal  \n",
      "75568   ALLOW  Normal  \n"
     ]
    }
   ],
   "source": [
    "# Load CIC-IDS dataset\n",
    "cic = pd.read_csv(\"../datasets/CIC_IDS_2017/Friday-WorkingHours-Morning.pcap_ISCX.csv\").sample(300, random_state=42)\n",
    "\n",
    "# Create label column\n",
    "cic['label'] = cic[' Label'].apply(lambda x: 'Attack' if str(x).strip().upper() != 'BENIGN' else 'Normal')\n",
    "\n",
    "# Create synthetic network data (using available columns)\n",
    "processed_cic = pd.DataFrame({\n",
    "    'timestamp': pd.to_datetime('2023-01-01') + pd.to_timedelta(cic[' Flow Duration']//1000, unit='s'),\n",
    "    'source_ip': '192.168.' + (cic[' Destination Port']//100).astype(str) + '.' + (cic[' Flow Duration']%100).astype(str),\n",
    "    'destination_ip': '10.0.' + (cic[' Total Fwd Packets']%100).astype(str) + '.' + (cic[' Total Backward Packets']%100).astype(str),\n",
    "    'protocol': np.where(cic[' Destination Port'].isin([80, 443]), 'TCP', 'UDP'),  # Simple protocol inference\n",
    "    'port': cic[' Destination Port'],\n",
    "    'action': np.where(cic['label'] == 'Attack', 'DENY', 'ALLOW'),\n",
    "    'label': cic['label']\n",
    "})\n",
    "\n",
    "# Save cleaned data\n",
    "processed_cic.to_csv(\"../datasets/CIC_IDS_2017_processed.csv\", index=False)\n",
    "print(\"CIC-IDS processed data saved. Sample:\")\n",
    "print(processed_cic.head())"
   ]
  },
  {
   "cell_type": "code",
   "execution_count": 141,
   "id": "06026186",
   "metadata": {},
   "outputs": [
    {
     "name": "stdout",
     "output_type": "stream",
     "text": [
      "NSL-KDD processed data saved. Sample:\n",
      "      protocol  bytes_sent  bytes_received  label action\n",
      "378        udp          36               0     21   DENY\n",
      "32038      tcp           0               0     18   DENY\n",
      "86399      tcp           0               0     21   DENY\n",
      "74412      tcp           0               0     19   DENY\n",
      "52951      tcp           0               0     15   DENY\n"
     ]
    }
   ],
   "source": [
    "# NSL-KDD column names (adjust based on your dataset)\n",
    "cols = [\"duration\", \"protocol_type\", \"service\", \"flag\", \"src_bytes\", \"dst_bytes\", \n",
    "        \"land\", \"wrong_fragment\", \"urgent\", \"hot\", \"num_failed_logins\", \n",
    "        \"logged_in\", \"num_compromised\", \"root_shell\", \"su_attempted\", \"num_root\", \n",
    "        \"num_file_creations\", \"num_shells\", \"num_access_files\", \"num_outbound_cmds\", \n",
    "        \"is_host_login\", \"is_guest_login\", \"count\", \"srv_count\", \"serror_rate\", \n",
    "        \"srv_serror_rate\", \"rerror_rate\", \"srv_rerror_rate\", \"same_srv_rate\", \n",
    "        \"diff_srv_rate\", \"srv_diff_host_rate\", \"dst_host_count\", \"dst_host_srv_count\", \n",
    "        \"dst_host_same_srv_rate\", \"dst_host_diff_srv_rate\", \"dst_host_same_src_port_rate\", \n",
    "        \"dst_host_srv_diff_host_rate\", \"dst_host_serror_rate\", \"dst_host_srv_serror_rate\", \n",
    "        \"dst_host_rerror_rate\", \"dst_host_srv_rerror_rate\", \"attack_type\", \"label\"]\n",
    "\n",
    "nsl = pd.read_csv(\"../datasets/NSL_KDD/KDDTrain+.txt\", names=cols).sample(300, random_state=42)\n",
    "nsl = nsl[['protocol_type', 'src_bytes', 'dst_bytes', 'label']]\n",
    "nsl.columns = ['protocol', 'bytes_sent', 'bytes_received', 'label']\n",
    "nsl['action'] = np.where(nsl['label'] == 'normal', 'ALLOW', 'DENY')  # Simulate action\n",
    "# Save cleaned data\n",
    "nsl.to_csv(\"../datasets/NSL_KDD_processed.csv\", index=False)\n",
    "print(\"NSL-KDD processed data saved. Sample:\")\n",
    "print(nsl.head())"
   ]
  },
  {
   "cell_type": "code",
   "execution_count": 140,
   "id": "586a3ded",
   "metadata": {},
   "outputs": [
    {
     "name": "stdout",
     "output_type": "stream",
     "text": [
      "\n",
      "Final Firewall processed data:\n",
      "  timestamp      source_ip   destination_ip protocol   port   action   label\n",
      "0   20:22.2        0.0.0.0  255.255.255.255      UDP     68  DROPPED  Attack\n",
      "1   20:08.8    10.90.90.90  239.255.255.100       IP      0  DROPPED  Attack\n",
      "2   19:57.2    10.90.90.90  255.255.255.255  UNKNOWN      0  DROPPED  Attack\n",
      "3   19:56.6  192.168.1.201   203.145.184.32      UDP  45233    ALLOW  Normal\n",
      "4   19:38.6  169.254.31.13  169.254.255.255  UNKNOWN    137  DROPPED  Attack\n",
      "\n",
      "Label distribution:\n",
      "Attack    31\n",
      "Normal    18\n",
      "Name: label, dtype: int64\n",
      "\n",
      "Firewall data saved. Label distribution:\n",
      "Attack    31\n",
      "Normal    18\n",
      "Name: label, dtype: int64\n"
     ]
    }
   ],
   "source": [
    "# Load firewall logs with proper parsing\n",
    "firewall_logs = pd.read_csv(\"../datasets/VijayaEnterprises_Firewall_logs.csv\", \n",
    "                          skiprows=2,\n",
    "                          header=None,\n",
    "                          names=['index', 'time', 'empty1', 'message', 'empty2', \n",
    "                                 'source', 'empty3', 'destination', 'empty4', 'notes', 'empty5'])\n",
    "\n",
    "# Clean and extract fields\n",
    "firewall_logs_clean = pd.DataFrame({\n",
    "    'timestamp': firewall_logs['time'],\n",
    "    'source_ip': firewall_logs['source'].str.extract(r'(\\d+\\.\\d+\\.\\d+\\.\\d+)')[0].fillna('0.0.0.0'),\n",
    "    'destination_ip': firewall_logs['destination'].str.extract(r'(\\d+\\.\\d+\\.\\d+\\.\\d+)')[0].fillna('0.0.0.0'),\n",
    "    'protocol': firewall_logs['notes'].str.extract(r'(TCP|UDP|IP)')[0].fillna('UNKNOWN'),\n",
    "    'port': firewall_logs['source'].str.extract(r', (\\d+),')[0].fillna(0).astype(int),\n",
    "    'action': firewall_logs['message'].str.extract(r'(ALLOW|DENY|DROPPED)', flags=re.IGNORECASE)[0].str.upper().fillna('UNKNOWN'),\n",
    "    'label': np.where(firewall_logs['message'].str.contains('drop', case=False), 'Attack', 'Normal')\n",
    "})\n",
    "\n",
    "# Drop completely empty rows\n",
    "firewall_logs_clean = firewall_logs_clean.dropna(how='all')\n",
    "\n",
    "print(\"\\nFinal Firewall processed data:\")\n",
    "print(firewall_logs_clean.head())\n",
    "print(f\"\\nLabel distribution:\\n{firewall_logs_clean['label'].value_counts()}\")\n",
    "# Save the cleaned firewall data\n",
    "firewall_logs_clean.to_csv(\"../datasets/Vijaya_Firewall_processed.csv\", index=False)\n",
    "print(\"\\nFirewall data saved. Label distribution:\")\n",
    "print(firewall_logs_clean['label'].value_counts())"
   ]
  },
  {
   "cell_type": "code",
   "execution_count": 144,
   "id": "ba5dba5c",
   "metadata": {},
   "outputs": [
    {
     "name": "stdout",
     "output_type": "stream",
     "text": [
      "✅ Standardized label distribution:\n",
      " Normal    418\n",
      "Attack    331\n",
      "Name: label, dtype: int64\n"
     ]
    }
   ],
   "source": [
    "import pandas as pd\n",
    "\n",
    "# Load merged dataset\n",
    "final_df = pd.read_csv(\"../datasets/FINAL_MERGED_DATASET.csv\")\n",
    "\n",
    "# Standardize labels (NSL-KDD uses numbers, others use text)\n",
    "attack_keywords = ['21', '18', '20', 'IP_Spoofing', 'Brute_Force', 'Port_Scan', \n",
    "                  '19', '16', '17', '15', '11', '14', '10', '7', '6']\n",
    "\n",
    "final_df['label'] = final_df['label'].apply(\n",
    "    lambda x: 'Attack' if str(x) in attack_keywords or 'Spoof' in str(x) or 'Force' in str(x) or 'Scan' in str(x) \n",
    "    else 'Normal'\n",
    ")\n",
    "\n",
    "# Verify\n",
    "print(\"✅ Standardized label distribution:\\n\", final_df['label'].value_counts())\n",
    "final_df.to_csv(\"../datasets/FINAL_MERGED_DATASET_CLEAN.csv\", index=False)"
   ]
  }
 ],
 "metadata": {
  "language_info": {
   "name": "python"
  }
 },
 "nbformat": 4,
 "nbformat_minor": 5
}
