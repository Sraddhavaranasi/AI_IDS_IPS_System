{
 "cells": [
  {
   "cell_type": "code",
   "execution_count": 6,
   "id": "4649df5a",
   "metadata": {},
   "outputs": [
    {
     "name": "stdout",
     "output_type": "stream",
     "text": [
      " 100 pseudo-log entries saved to: ../datasets/Vijaya_Pseudo_Logs.csv\n"
     ]
    }
   ],
   "source": [
    "import pandas as pd\n",
    "import random\n",
    "from datetime import datetime, timedelta\n",
    "\n",
    "# Attack types and messages\n",
    "log_messages = [\n",
    "    (\"Web management request allowed\", \"ALLOW\", \"TCP\", 80, \"Normal\"),\n",
    "    (\"UDP packet from LAN dropped\", \"DENY\", \"UDP\", 67, \"Normal\"),\n",
    "    (\"Malformed or unhandled IP packet dropped\", \"DENY\", \"IP\", 0, \"IP_Spoofing\"),\n",
    "    (\"Broadcast packet dropped\", \"DENY\", \"UDP\", 1900, \"Normal\"),\n",
    "    (\"DNS packet allowed\", \"ALLOW\", \"UDP\", 53, \"Normal\"),\n",
    "    (\"IP spoof dropped\", \"DENY\", \"IP\", 137, \"IP_Spoofing\"),\n",
    "    (\"ARP timeout\", \"DENY\", \"ARP\", 0, \"Normal\"),\n",
    "    (\"Administrator login allowed\", \"ALLOW\", \"TCP\", 443, \"Normal\"),\n",
    "    (\"Port scan detected\", \"DENY\", \"TCP\", 22, \"Port_Scan\"),\n",
    "    (\"Brute force login attempt\", \"DENY\", \"TCP\", 3389, \"Brute_Force\")\n",
    "]\n",
    "\n",
    "# Generate 100 pseudo log entries\n",
    "num_logs = 100\n",
    "start_time = datetime.now()\n",
    "entries = []\n",
    "\n",
    "for _ in range(num_logs):\n",
    "    timestamp = (start_time - timedelta(seconds=random.randint(0, 86400))).strftime(\"%Y-%m-%d %H:%M:%S\")\n",
    "    message, action, protocol, port, label = random.choice(log_messages)\n",
    "\n",
    "    source_ip = f\"192.168.1.{random.randint(1, 254)}\"\n",
    "    destination_ip = f\"10.0.0.{random.randint(1, 254)}\"\n",
    "    bytes_sent = random.randint(200, 8000)\n",
    "    bytes_received = random.randint(100, 5000)\n",
    "    connection_status = random.choice([\"ESTABLISHED\", \"REJECTED\", \"IN_PROGRESS\"])\n",
    "\n",
    "    entries.append([\n",
    "        timestamp, message, source_ip, destination_ip, protocol,\n",
    "        port, action, bytes_sent, bytes_received, connection_status, label\n",
    "    ])\n",
    "\n",
    "# Convert to DataFrame\n",
    "columns = [\n",
    "    \"timestamp\", \"message\", \"source_ip\", \"destination_ip\", \"protocol\",\n",
    "    \"port\", \"action\", \"bytes_sent\", \"bytes_received\", \"connection_status\", \"label\"\n",
    "]\n",
    "df = pd.DataFrame(entries, columns=columns)\n",
    "\n",
    "output_path = \"../datasets/Vijaya_Pseudo_Logs.csv\"\n",
    "df.to_csv(output_path, index=False)\n",
    "print(f\" 100 pseudo-log entries saved to: {output_path}\")\n"
   ]
  }
 ],
 "metadata": {
  "kernelspec": {
   "display_name": "venv",
   "language": "python",
   "name": "python3"
  },
  "language_info": {
   "codemirror_mode": {
    "name": "ipython",
    "version": 3
   },
   "file_extension": ".py",
   "mimetype": "text/x-python",
   "name": "python",
   "nbconvert_exporter": "python",
   "pygments_lexer": "ipython3",
   "version": "3.11.0"
  }
 },
 "nbformat": 4,
 "nbformat_minor": 5
}
